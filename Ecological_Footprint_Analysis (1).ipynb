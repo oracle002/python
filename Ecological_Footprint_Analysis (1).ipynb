{
  "cells": [
    {
      "cell_type": "code",
      "execution_count": null,
      "metadata": {
        "id": "DqHXwb9OhI0t"
      },
      "outputs": [],
      "source": []
    },
    {
      "cell_type": "markdown",
      "metadata": {
        "id": "yRq10Cq-hLrO"
      },
      "source": [
        "## **Ecological Footprint Analysis**\n",
        "\n",
        "> `Add blockquote`\n",
        "\n"
      ]
    },
    {
      "cell_type": "markdown",
      "metadata": {
        "id": "5AicUHfFhSWu"
      },
      "source": [
        "### **Data** **Cleaning**"
      ]
    },
    {
      "cell_type": "code",
      "execution_count": null,
      "metadata": {
        "id": "Qk0IEaQyjZTM"
      },
      "outputs": [],
      "source": [
        "import numpy as np\n",
        "import seaborn as sns\n",
        "import pandas as pd\n",
        "import matplotlib.pyplot as plt\n",
        "from sklearn.model_selection import train_test_split\n",
        "from sklearn.linear_model import LinearRegression\n",
        "from sklearn.metrics import mean_squared_error, r2_score"
      ]
    },
    {
      "cell_type": "code",
      "execution_count": null,
      "metadata": {
        "colab": {
          "base_uri": "https://localhost:8080/"
        },
        "id": "qAwzwpKohQTm",
        "outputId": "5ba7a961-5a87-4a05-8baa-021247e7cbe0"
      },
      "outputs": [],
      "source": [
        "from google.colab import drive\n",
        "drive.mount('/content/drive')"
      ]
    },
    {
      "cell_type": "code",
      "execution_count": null,
      "metadata": {
        "id": "3dLT0jC6i35D"
      },
      "outputs": [],
      "source": [
        "file_path='/content/drive/MyDrive/Colab Notebooks/Ecological Footprint Analysis/GlobalEcologicalFootprint.csv'"
      ]
    },
    {
      "cell_type": "code",
      "execution_count": null,
      "metadata": {
        "colab": {
          "base_uri": "https://localhost:8080/",
          "height": 359
        },
        "id": "MshClvTXjbnM",
        "outputId": "9872ba68-8bda-46cc-f950-03d2c4cb91c9"
      },
      "outputs": [],
      "source": [
        "data=pd.read_csv(file_path, encoding='latin-1')\n",
        "data.head()"
      ]
    },
    {
      "cell_type": "code",
      "execution_count": null,
      "metadata": {
        "colab": {
          "base_uri": "https://localhost:8080/",
          "height": 910
        },
        "id": "9Q41dexMkins",
        "outputId": "fda8a9cf-741e-405b-ae3a-b7b08177be24"
      },
      "outputs": [],
      "source": [
        "data.info()\n",
        "data.describe()"
      ]
    },
    {
      "cell_type": "code",
      "execution_count": null,
      "metadata": {
        "colab": {
          "base_uri": "https://localhost:8080/",
          "height": 458
        },
        "id": "VO8jRNscx2HN",
        "outputId": "2c3c41e5-3be1-40ea-ffb7-2fafbb9acd36"
      },
      "outputs": [],
      "source": [
        "data.rename(columns={'Total biocapacity ': 'Total biocapacity'}, inplace=True)\n",
        "data.rename(columns={'Life Exectancy': 'Life Expectancy'}, inplace=True)\n",
        "\n",
        "# Removing '$' and ',' to convert'Per Capita GDP' to a numeric column\n",
        "data['Per Capita GDP'] = data['Per Capita GDP'].str.replace('$', '')\n",
        "data['Per Capita GDP'] = data['Per Capita GDP'].str.replace(',', '')\n",
        "data['Per Capita GDP']"
      ]
    },
    {
      "cell_type": "code",
      "execution_count": null,
      "metadata": {
        "colab": {
          "base_uri": "https://localhost:8080/"
        },
        "id": "lqfB_HqJy_h0",
        "outputId": "b644ed83-86f3-4774-ed18-bc6ec3af4620"
      },
      "outputs": [],
      "source": [
        "# Check for missing values in the entire dataset\n",
        "missing_values = data.isnull().sum()\n",
        "\n",
        "# Display columns with missing values\n",
        "missing_columns = missing_values[missing_values > 0]\n",
        "print(missing_columns)\n"
      ]
    },
    {
      "cell_type": "markdown",
      "metadata": {
        "id": "adkEzRfEyK5s"
      },
      "source": [
        "HANDELING MISSING VALUES"
      ]
    },
    {
      "cell_type": "code",
      "execution_count": null,
      "metadata": {
        "colab": {
          "base_uri": "https://localhost:8080/"
        },
        "id": "Yu1R7xsayJ2t",
        "outputId": "ef1320dc-24aa-4e65-a6cb-4bd5160d5dde"
      },
      "outputs": [],
      "source": [
        "# prompt: Handle missing data don't drop Impute missing values,Drop row with a high percentage of missing coloums\n",
        "\n",
        "# Calculate the percentage of missing values in each row\n",
        "row_missing_percentage = data.isnull().mean(axis=1)\n",
        "\n",
        "# Define a threshold for the maximum allowed percentage of missing values per row\n",
        "threshold = 0.5  # Example: Remove rows with more than 50% missing values\n",
        "\n",
        "# Remove rows with a high percentage of missing values\n",
        "data = data[row_missing_percentage <= threshold]\n",
        "\n",
        "# Impute missing values with the mean for numerical columns\n",
        "numerical_cols = data.select_dtypes(include=np.number).columns\n",
        "for col in numerical_cols:\n",
        "  data[col].fillna(data[col].mean(), inplace=True)\n",
        "\n",
        "# Impute missing values with the mode for categorical columns\n",
        "categorical_cols = data.select_dtypes(include=['object']).columns\n",
        "for col in categorical_cols:\n",
        "  data[col].fillna(data[col].mode()[0], inplace=True)\n",
        "\n",
        "# Verify that there are no more missing values\n",
        "missing_values_after_handling = data.isnull().sum()\n",
        "print(missing_values_after_handling)"
      ]
    },
    {
      "cell_type": "code",
      "execution_count": null,
      "metadata": {
        "id": "reI4v1Ia6INZ"
      },
      "outputs": [],
      "source": [
        "# Convert non-numeric columns to numeric\n",
        "columns_to_convert = ['SDGi', 'Life Expectancy', 'HDI', 'Population (millions)', 'Per Capita GDP']\n",
        "\n",
        "for col in columns_to_convert:\n",
        "    data[col] = pd.to_numeric(data[col], errors='coerce')"
      ]
    },
    {
      "cell_type": "code",
      "execution_count": null,
      "metadata": {
        "colab": {
          "base_uri": "https://localhost:8080/",
          "height": 915
        },
        "id": "MEfb3C6s07bD",
        "outputId": "0092e0f5-8b60-474a-e054-30d0b6cdb05d"
      },
      "outputs": [],
      "source": [
        "data.info()\n",
        "data.describe()\n",
        "\n",
        "data['Income Group'].value_counts()\n",
        "data.head()"
      ]
    },
    {
      "cell_type": "markdown",
      "metadata": {
        "id": "1jefxykmBNET"
      },
      "source": [
        "### **Visualize the pairwise relationships between Ecological Footprint factors**"
      ]
    },
    {
      "cell_type": "code",
      "execution_count": null,
      "metadata": {
        "colab": {
          "base_uri": "https://localhost:8080/",
          "height": 1000
        },
        "id": "laf9fTGG3gDx",
        "outputId": "17720564-8d04-4c08-bd07-2b410b191e22"
      },
      "outputs": [],
      "source": [
        "import matplotlib.pyplot as plt\n",
        "import seaborn as sns\n",
        "plt.figure(figsize=(6, 6))\n",
        "sns.pairplot(data[['Cropland Footprint', 'Grazing Footprint', 'Forest Product Footprint', 'Carbon Footprint', 'Fish Footprint']])\n",
        "plt.show()"
      ]
    },
    {
      "cell_type": "markdown",
      "metadata": {
        "id": "LmKO2n5ABUZS"
      },
      "source": [
        "# **Ecological Footprint Analysis:**\n",
        "*.**Objective:** Compare ecological footprints across countries and analyze the factors contributing to high or low footprints.*\n"
      ]
    },
    {
      "cell_type": "code",
      "execution_count": null,
      "metadata": {
        "colab": {
          "base_uri": "https://localhost:8080/",
          "height": 718
        },
        "id": "PxNJgtJj2tgj",
        "outputId": "4156dd1f-d285-45ff-c44d-15d8c02fab72"
      },
      "outputs": [],
      "source": [
        "\n",
        "plt.figure(figsize=(12, 8))\n",
        "sns.barplot(x='Total Ecological Footprint (Consumption)', y='Country', data=data.sort_values('Total Ecological Footprint (Consumption)', ascending=False).head(20)) # Changed data to data\n",
        "plt.title('Top 20 Countries by Total Ecological Footprint')\n",
        "plt.xlabel('Ecological Footprint (Consumption)')\n",
        "plt.show()"
      ]
    },
    {
      "cell_type": "code",
      "execution_count": null,
      "metadata": {
        "colab": {
          "base_uri": "https://localhost:8080/",
          "height": 564
        },
        "id": "UDEsgE13-_W0",
        "outputId": "1085357b-799d-4b08-9e64-9cc81c16a7d8"
      },
      "outputs": [],
      "source": [
        "# Boxplot of Ecological Footprint by Income Group\n",
        "plt.figure(figsize=(10, 6))\n",
        "sns.boxplot(x='Income Group', y='Total Ecological Footprint (Consumption)', data=data)\n",
        "plt.title('Ecological Footprint by Income Group')\n",
        "plt.xlabel('Income Group')\n",
        "plt.ylabel('Total Ecological Footprint (Consumption)')\n",
        "plt.show()\n"
      ]
    },
    {
      "cell_type": "code",
      "execution_count": null,
      "metadata": {
        "colab": {
          "base_uri": "https://localhost:8080/",
          "height": 693
        },
        "id": "jTzCKErT_Dwk",
        "outputId": "46d1159d-3a20-402c-944c-22fa092760c9"
      },
      "outputs": [],
      "source": [
        "# Boxplot of Ecological Footprint by Region\n",
        "plt.figure(figsize=(12, 6))\n",
        "sns.boxplot(x='Region', y='Total Ecological Footprint (Consumption)', data=data)\n",
        "plt.title('Ecological Footprint by Region')\n",
        "plt.xticks(rotation=45)\n",
        "plt.xlabel('Region')\n",
        "plt.ylabel('Total Ecological Footprint (Consumption)')\n",
        "plt.show()\n"
      ]
    },
    {
      "cell_type": "code",
      "execution_count": null,
      "metadata": {
        "colab": {
          "base_uri": "https://localhost:8080/",
          "height": 812
        },
        "id": "xYlgligr_glU",
        "outputId": "10611532-15c0-408c-dadb-4303f28c3661"
      },
      "outputs": [],
      "source": [
        "# Correlation Matrix\n",
        "corr_matrix = data[['Total Ecological Footprint (Consumption)', 'Per Capita GDP', 'Population (millions)', 'HDI']].corr()\n",
        "\n",
        "# Plot the correlation heatmap\n",
        "plt.figure(figsize=(8, 6))\n",
        "sns.heatmap(corr_matrix, annot=True, cmap='coolwarm', fmt='.2f')\n",
        "plt.title('Correlation Between Ecological Footprint and Economic Indicators')\n",
        "plt.show()\n"
      ]
    },
    {
      "cell_type": "code",
      "execution_count": null,
      "metadata": {
        "colab": {
          "base_uri": "https://localhost:8080/",
          "height": 812
        },
        "id": "jo2_kHQo_jVk",
        "outputId": "26d36b52-2784-4d2f-e017-ea6587c3439d"
      },
      "outputs": [],
      "source": [
        "# Select relevant numerical columns for correlation analysis\n",
        "numeric_columns = ['SDGi', 'Life Expectancy', 'HDI', 'Per Capita GDP', 'Population (millions)',\n",
        "                   'Total Ecological Footprint (Consumption)', 'Ecological (Deficit) or Reserve']\n",
        "\n",
        "# Compute correlation matrix\n",
        "correlation_matrix = data[numeric_columns].corr()\n",
        "\n",
        "# Plot heatmap for better visualization\n",
        "import seaborn as sns\n",
        "import matplotlib.pyplot as plt\n",
        "\n",
        "plt.figure(figsize=(10, 6))\n",
        "sns.heatmap(correlation_matrix, annot=True, cmap='coolwarm', fmt='.2f')\n",
        "plt.title('Correlation Matrix for Ecological Footprint and Other Factors')\n",
        "plt.show()\n"
      ]
    },
    {
      "cell_type": "code",
      "execution_count": null,
      "metadata": {
        "colab": {
          "base_uri": "https://localhost:8080/",
          "height": 1000
        },
        "id": "PkGljL1M_1mN",
        "outputId": "8b7a084a-4ba4-4d7f-b41b-1a076e257439"
      },
      "outputs": [],
      "source": [
        "# Scatter plot: Total Ecological Footprint vs. Per Capita GDP\n",
        "plt.figure(figsize=(8, 6))\n",
        "sns.scatterplot(x='Per Capita GDP', y='Total Ecological Footprint (Consumption)', data=data)\n",
        "plt.title('Ecological Footprint vs. Per Capita GDP')\n",
        "plt.xlabel('Per Capita GDP')\n",
        "plt.ylabel('Total Ecological Footprint')\n",
        "plt.show()\n",
        "\n",
        "# Scatter plot: Total Ecological Footprint vs. HDI\n",
        "plt.figure(figsize=(8, 6))\n",
        "sns.scatterplot(x='HDI', y='Total Ecological Footprint (Consumption)', data=data)\n",
        "plt.title('Ecological Footprint vs. HDI')\n",
        "plt.xlabel('Human Development Index (HDI)')\n",
        "plt.ylabel('Total Ecological Footprint')\n",
        "plt.show()\n",
        "\n",
        "# Scatter plot: Total Ecological Footprint vs. Population\n",
        "plt.figure(figsize=(8, 6))\n",
        "sns.scatterplot(x='Population (millions)', y='Total Ecological Footprint (Consumption)', data=data)\n",
        "plt.title('Ecological Footprint vs. Population')\n",
        "plt.xlabel('Population (millions)')\n",
        "plt.ylabel('Total Ecological Footprint')\n",
        "plt.show()\n"
      ]
    },
    {
      "cell_type": "code",
      "execution_count": null,
      "metadata": {
        "colab": {
          "base_uri": "https://localhost:8080/"
        },
        "id": "nkWJbxu3Cgy6",
        "outputId": "a5d4232e-5f06-473f-d418-0db3a76f1eb4"
      },
      "outputs": [],
      "source": [
        "# Identify outliers in Total Ecological Footprint using IQR method\n",
        "Q1 = data['Total Ecological Footprint (Consumption)'].quantile(0.25)\n",
        "Q3 = data['Total Ecological Footprint (Consumption)'].quantile(0.75)\n",
        "IQR = Q3 - Q1\n",
        "\n",
        "outliers = data[(data['Total Ecological Footprint (Consumption)'] < (Q1 - 1.5 * IQR)) |\n",
        "                        (data['Total Ecological Footprint (Consumption)'] > (Q3 + 1.5 * IQR))]\n",
        "\n",
        "print(outliers[['Country', 'Region', 'Total Ecological Footprint (Consumption)', 'Per Capita GDP', 'HDI', 'Population (millions)']])\n"
      ]
    },
    {
      "cell_type": "markdown",
      "metadata": {
        "id": "8XbN7YIHAUIj"
      },
      "source": [
        "# **Interpretation:**\n",
        "\n",
        "Based on the visualizations and analysis:\n",
        "\n",
        "* Which countries or regions have the highest and lowest ecological footprints?\n",
        "\n",
        "* How do population size and GDP relate to ecological footprint?\n",
        "\n",
        "\n"
      ]
    },
    {
      "cell_type": "markdown",
      "metadata": {
        "id": "3SmTmnG-GgA-"
      },
      "source": []
    },
    {
      "cell_type": "code",
      "execution_count": null,
      "metadata": {
        "colab": {
          "base_uri": "https://localhost:8080/"
        },
        "id": "Ren5IAs4Fg-P",
        "outputId": "4b0dbf80-c693-4695-ec50-c4fefead02f5"
      },
      "outputs": [],
      "source": [
        "# Correlation between SDGi and Total Ecological Footprint\n",
        "correlation_sdgi_footprint = data['SDGi'].corr(data['Total Ecological Footprint (Consumption)'])\n",
        "print(f\"Correlation between SDGi and Total Ecological Footprint: {correlation_sdgi_footprint}\")\n"
      ]
    },
    {
      "cell_type": "code",
      "execution_count": null,
      "metadata": {
        "colab": {
          "base_uri": "https://localhost:8080/",
          "height": 564
        },
        "id": "IQDvFKyIHDL-",
        "outputId": "6b05c316-8fbf-49e7-9e0a-1a00fbaa20bc"
      },
      "outputs": [],
      "source": [
        "import seaborn as sns\n",
        "import matplotlib.pyplot as plt\n",
        "\n",
        "# Scatter plot of SDGi vs. Total Ecological Footprint\n",
        "plt.figure(figsize=(8, 6))\n",
        "sns.scatterplot(x='SDGi', y='Total Ecological Footprint (Consumption)', data=data)\n",
        "plt.title('SDGi vs. Total Ecological Footprint')\n",
        "plt.xlabel('SDGi (Sustainable Development Goals Index)')\n",
        "plt.ylabel('Total Ecological Footprint')\n",
        "plt.show()\n"
      ]
    },
    {
      "cell_type": "code",
      "execution_count": null,
      "metadata": {
        "colab": {
          "base_uri": "https://localhost:8080/"
        },
        "id": "ZzKPqlBFHSPe",
        "outputId": "92696518-e08a-42d5-a3b0-9f75f850c1cf"
      },
      "outputs": [],
      "source": [
        "from sklearn.model_selection import train_test_split\n",
        "from sklearn.linear_model import LinearRegression\n",
        "from sklearn.impute import SimpleImputer # import the imputer\n",
        "\n",
        "# Prepare the data\n",
        "X = data[['SDGi']]\n",
        "y = data['Total Ecological Footprint (Consumption)']\n",
        "\n",
        "# Impute missing values with the mean\n",
        "imputer = SimpleImputer(strategy='mean') # create an imputer instance\n",
        "X = imputer.fit_transform(X) # fit and transform the data\n",
        "\n",
        "# Split the data into training and testing sets\n",
        "X_train, X_test, y_train, y_test = train_test_split(X, y, test_size=0.2, random_state=42)\n",
        "\n",
        "# Train the linear regression model\n",
        "model = LinearRegression()\n",
        "model.fit(X_train, y_train)\n",
        "\n",
        "# Evaluate the model\n",
        "r_squared = model.score(X_test, y_test)\n",
        "print(f\"R-squared value: {r_squared}\")\n",
        "\n",
        "# Get the model coefficients\n",
        "print(f\"Intercept: {model.intercept_}\")\n",
        "print(f\"Coefficient for SDGi: {model.coef_[0]}\")"
      ]
    },
    {
      "cell_type": "markdown",
      "metadata": {
        "id": "uTtojJArtqlQ"
      },
      "source": [
        "Exploring the trade-off between economic growth (represented by Per Capita GDP) and environmental sustainability (represented by the Ecological Footprint and Biocapacity)"
      ]
    },
    {
      "cell_type": "code",
      "execution_count": null,
      "metadata": {
        "colab": {
          "base_uri": "https://localhost:8080/"
        },
        "id": "w4OPqkmat7xG",
        "outputId": "973bdec8-282b-42fa-9166-42fd0fda7eed"
      },
      "outputs": [],
      "source": [
        "# Correlation analysis\n",
        "correlation_gdp_env = data[['Per Capita GDP', 'Total Ecological Footprint (Consumption)', 'Total biocapacity']].corr()\n",
        "\n",
        "# Display correlation matrix\n",
        "print(correlation_gdp_env)\n"
      ]
    },
    {
      "cell_type": "code",
      "execution_count": null,
      "metadata": {
        "colab": {
          "base_uri": "https://localhost:8080/",
          "height": 564
        },
        "id": "qd_yS-nvuBke",
        "outputId": "77816054-ed9a-46e1-af55-b339645209f0"
      },
      "outputs": [],
      "source": [
        "# Scatter plot: GDP vs Ecological Footprint\n",
        "plt.figure(figsize=(8, 6))\n",
        "sns.scatterplot(x='Per Capita GDP', y='Total Ecological Footprint (Consumption)',hue='Region', data=data)\n",
        "plt.title('Per Capita GDP vs Total Ecological Footprint')\n",
        "plt.xlabel('Per Capita GDP')\n",
        "plt.ylabel('Total Ecological Footprint (Consumption)')\n",
        "plt.show()\n"
      ]
    },
    {
      "cell_type": "code",
      "execution_count": null,
      "metadata": {
        "colab": {
          "base_uri": "https://localhost:8080/",
          "height": 564
        },
        "id": "t10ZCBhouS83",
        "outputId": "de8a729c-0f58-425d-914f-67a4ae9302d0"
      },
      "outputs": [],
      "source": [
        "# Scatter plot: GDP vs Biocapacity\n",
        "plt.figure(figsize=(8, 6))\n",
        "sns.scatterplot(x='Per Capita GDP', y='Total biocapacity', hue='Region',data=data)\n",
        "plt.title('Per Capita GDP vs Total Biocapacity')\n",
        "plt.xlabel('Per Capita GDP')\n",
        "plt.ylabel('Total Biocapacity')\n",
        "plt.show()\n"
      ]
    },
    {
      "cell_type": "code",
      "execution_count": null,
      "metadata": {
        "colab": {
          "base_uri": "https://localhost:8080/",
          "height": 564
        },
        "id": "iVWHrVLeum30",
        "outputId": "6acdf887-7623-41b3-f598-a9df3975246e"
      },
      "outputs": [],
      "source": [
        "# Scatter plot: Ecological Footprint vs Biocapacity\n",
        "plt.figure(figsize=(8, 6))\n",
        "sns.scatterplot(x='Total Ecological Footprint (Consumption)', y='Total biocapacity',hue='Region' ,data=data)\n",
        "plt.title('Ecological Footprint vs Biocapacity')\n",
        "plt.xlabel('Total Ecological Footprint (Consumption)')\n",
        "plt.ylabel('Total Biocapacity')\n",
        "plt.show()\n"
      ]
    },
    {
      "cell_type": "code",
      "execution_count": null,
      "metadata": {
        "colab": {
          "base_uri": "https://localhost:8080/",
          "height": 619
        },
        "id": "BCm0NIu2utjL",
        "outputId": "0186aadb-c7d7-47da-d9c6-827eb0816056"
      },
      "outputs": [],
      "source": [
        "# Normalize the values for easier comparison\n",
        "data['Normalized GDP'] = (data['Per Capita GDP'] - data['Per Capita GDP'].min()) / (data['Per Capita GDP'].max() - data['Per Capita GDP'].min())\n",
        "data['Normalized Footprint'] = (data['Total Ecological Footprint (Consumption)'] - data['Total Ecological Footprint (Consumption)'].min()) / (data['Total Ecological Footprint (Consumption)'].max() - data['Total Ecological Footprint (Consumption)'].min())\n",
        "data['Normalized Biocapacity'] = (data['Total biocapacity'] - data['Total biocapacity'].min()) / (data['Total biocapacity'].max() - data['Total biocapacity'].min())\n",
        "\n",
        "# Line plot\n",
        "plt.figure(figsize=(28,12))\n",
        "plt.plot(data['Country'], data['Normalized GDP'], label='Per Capita GDP', marker='o')\n",
        "plt.plot(data['Country'], data['Normalized Footprint'], label='Ecological Footprint', marker='x')\n",
        "plt.plot(data['Country'], data['Normalized Biocapacity'], label='Biocapacity', marker='s')\n",
        "\n",
        "plt.xticks(rotation=90)\n",
        "plt.title('Comparison of Per Capita GDP, Ecological Footprint, and Biocapacity Across Countries')\n",
        "plt.xlabel('Country')\n",
        "plt.ylabel('Normalized Values')\n",
        "plt.legend()\n",
        "plt.tight_layout()\n",
        "plt.show()\n"
      ]
    },
    {
      "cell_type": "code",
      "execution_count": null,
      "metadata": {
        "colab": {
          "base_uri": "https://localhost:8080/",
          "height": 1000
        },
        "id": "0xIEf3cGwat9",
        "outputId": "26e327ff-1898-4b18-d02c-59b4142fcf9a"
      },
      "outputs": [],
      "source": [
        "# Scatter plot with FacetGrid for regions\n",
        "g = sns.FacetGrid(data, col=\"Region\", col_wrap=3, height=4)\n",
        "g.map(sns.scatterplot, \"Per Capita GDP\", \"Total Ecological Footprint (Consumption)\")\n",
        "g.add_legend()\n",
        "plt.show()\n",
        "\n",
        "# Scatter plot with FacetGrid for income groups\n",
        "g = sns.FacetGrid(data, col=\"Income Group\", col_wrap=2, height=4)\n",
        "g.map(sns.scatterplot, \"Per Capita GDP\", \"Total Ecological Footprint (Consumption)\")\n",
        "g.add_legend()\n",
        "plt.show()\n"
      ]
    },
    {
      "cell_type": "markdown",
      "metadata": {
        "id": "ApARCmplyLqc"
      },
      "source": [
        "Sustainability Performance: Evaluate countries in terms of their ecological deficit or reserve and correlate it with development indicators like HDI, GDP, and life expectancy."
      ]
    },
    {
      "cell_type": "code",
      "execution_count": null,
      "metadata": {
        "colab": {
          "base_uri": "https://localhost:8080/"
        },
        "id": "mPwA0qT8wzqF",
        "outputId": "a4ac6c89-cca1-4b61-b4ae-58ad4669a632"
      },
      "outputs": [],
      "source": [
        "# Correlation analysis between Ecological Deficit/Reserve and development indicators\n",
        "correlation_sustainability = data[['Ecological (Deficit) or Reserve', 'HDI', 'Per Capita GDP', 'Life Expectancy']].corr()\n",
        "\n",
        "# Display correlation matrix\n",
        "print(correlation_sustainability)"
      ]
    },
    {
      "cell_type": "code",
      "execution_count": null,
      "metadata": {
        "colab": {
          "base_uri": "https://localhost:8080/",
          "height": 564
        },
        "id": "WdjfaOIIyQt8",
        "outputId": "a908e0da-85dc-4f5e-f7ad-4dd45db84fc4"
      },
      "outputs": [],
      "source": [
        "# Scatter plot: Ecological Deficit/Reserve vs HDI\n",
        "plt.figure(figsize=(8, 6))\n",
        "sns.scatterplot(x='Ecological (Deficit) or Reserve', y='HDI', data=data)\n",
        "plt.title('Ecological Deficit/Reserve vs HDI')\n",
        "plt.xlabel('Ecological Deficit/Reserve')\n",
        "plt.ylabel('HDI')\n",
        "plt.show()\n"
      ]
    },
    {
      "cell_type": "code",
      "execution_count": null,
      "metadata": {
        "colab": {
          "base_uri": "https://localhost:8080/",
          "height": 564
        },
        "id": "o1VZHMrPyZKO",
        "outputId": "1ce5c5f7-917c-492c-e741-0214c4c22c6a"
      },
      "outputs": [],
      "source": [
        "# Scatter plot: Ecological Deficit/Reserve vs GDP\n",
        "plt.figure(figsize=(8, 6))\n",
        "sns.scatterplot(x='Ecological (Deficit) or Reserve', y='Per Capita GDP', data=data)\n",
        "plt.title('Ecological Deficit/Reserve vs Per Capita GDP')\n",
        "plt.xlabel('Ecological Deficit/Reserve')\n",
        "plt.ylabel('Per Capita GDP')\n",
        "plt.show()\n"
      ]
    },
    {
      "cell_type": "code",
      "execution_count": null,
      "metadata": {
        "colab": {
          "base_uri": "https://localhost:8080/",
          "height": 564
        },
        "id": "CrUNxcLGyeR8",
        "outputId": "dd49a889-470d-458c-b11b-521d6aaafe96"
      },
      "outputs": [],
      "source": [
        "# Scatter plot: Ecological Deficit/Reserve vs Life Expectancy\n",
        "plt.figure(figsize=(8, 6))\n",
        "sns.scatterplot(x='Ecological (Deficit) or Reserve', y='Life Expectancy', data=data)\n",
        "plt.title('Ecological Deficit/Reserve vs Life Expectancy')\n",
        "plt.xlabel('Ecological Deficit/Reserve')\n",
        "plt.ylabel('Life Expectancy')\n",
        "plt.show()\n"
      ]
    },
    {
      "cell_type": "code",
      "execution_count": null,
      "metadata": {
        "colab": {
          "base_uri": "https://localhost:8080/",
          "height": 1000
        },
        "id": "rW1MIL0Nyj3E",
        "outputId": "35f77e38-1241-42cb-aa7a-3339bcca5b5e"
      },
      "outputs": [],
      "source": [
        "# Facet grid: Ecological Deficit/Reserve vs HDI by Region\n",
        "g = sns.FacetGrid(data, col=\"Region\", col_wrap=3, height=4)\n",
        "g.map(sns.scatterplot, \"Ecological (Deficit) or Reserve\", \"HDI\")\n",
        "g.add_legend()\n",
        "plt.show()\n",
        "# Facet grid: Ecological Deficit/Reserve vs GDP by Income Group\n",
        "g = sns.FacetGrid(data, col=\"Income Group\", col_wrap=2, height=4)\n",
        "g.map(sns.scatterplot, \"Ecological (Deficit) or Reserve\", \"Per Capita GDP\")\n",
        "g.add_legend()\n",
        "plt.show()\n"
      ]
    },
    {
      "cell_type": "code",
      "execution_count": null,
      "metadata": {
        "colab": {
          "base_uri": "https://localhost:8080/",
          "height": 1000
        },
        "id": "E-Wf6zXAyuEa",
        "outputId": "0d9d68dd-b732-4bd5-98d3-a1c7f729b788"
      },
      "outputs": [],
      "source": [
        "# Bar plot: Ranking countries by Ecological Deficit or Reserve\n",
        "data_sorted = data.sort_values('Ecological (Deficit) or Reserve', ascending=False)\n",
        "\n",
        "plt.figure(figsize=(10, 25))\n",
        "sns.barplot(x='Ecological (Deficit) or Reserve', y='Country', data=data_sorted, palette='coolwarm')\n",
        "plt.title('Ranking of Countries by Ecological Deficit or Reserve')\n",
        "plt.xlabel('Ecological Deficit or Reserve')\n",
        "plt.ylabel('Country')\n",
        "plt.tight_layout()\n",
        "plt.show()\n"
      ]
    },
    {
      "cell_type": "code",
      "execution_count": null,
      "metadata": {
        "colab": {
          "base_uri": "https://localhost:8080/"
        },
        "id": "PvoAdYdXzrZx",
        "outputId": "efee97fe-a94d-4d20-8c07-48925a80eefa"
      },
      "outputs": [],
      "source": [
        "from sklearn.linear_model import LinearRegression\n",
        "from sklearn.model_selection import train_test_split\n",
        "\n",
        "# Prepare data\n",
        "X = data[['HDI', 'Per Capita GDP', 'Life Expectancy']]\n",
        "y = data['Ecological (Deficit) or Reserve']\n",
        "\n",
        "# Split into training and testing sets\n",
        "X_train, X_test, y_train, y_test = train_test_split(X, y, test_size=0.2, random_state=42)\n",
        "\n",
        "# Train the model\n",
        "model = LinearRegression()\n",
        "model.fit(X_train, y_train)\n",
        "\n",
        "# Evaluate the model\n",
        "r_squared = model.score(X_test, y_test)\n",
        "print(f\"R-squared value: {r_squared}\")\n",
        "\n",
        "# Get the model coefficients\n",
        "coefficients = model.coef_\n",
        "intercept = model.intercept_\n",
        "print(f\"Intercept: {intercept}\")\n",
        "print(f\"Coefficients: {coefficients}\")\n"
      ]
    },
    {
      "cell_type": "code",
      "execution_count": null,
      "metadata": {
        "colab": {
          "base_uri": "https://localhost:8080/"
        },
        "id": "mvVD26snz0rb",
        "outputId": "e509f06e-715c-4629-ec90-b826f70d3413"
      },
      "outputs": [],
      "source": [
        "from sklearn.linear_model import LinearRegression\n",
        "from sklearn.model_selection import train_test_split\n",
        "from sklearn.impute import SimpleImputer # Import the SimpleImputer class\n",
        "\n",
        "# Prepare data\n",
        "X = data[['HDI', 'Per Capita GDP', 'Life Expectancy']]\n",
        "y = data['Ecological (Deficit) or Reserve']\n",
        "\n",
        "# Split into training and testing sets\n",
        "X_train, X_test, y_train, y_test = train_test_split(X, y, test_size=0.2, random_state=42)\n",
        "\n",
        "# Impute missing values using the mean strategy\n",
        "imputer = SimpleImputer(strategy='mean') # Create an instance of SimpleImputer\n",
        "X_train = imputer.fit_transform(X_train) # Fit and transform on the training data\n",
        "X_test = imputer.transform(X_test) # Transform the testing data\n",
        "\n",
        "# Train the model\n",
        "model = LinearRegression()\n",
        "model.fit(X_train, y_train)\n",
        "\n",
        "# Evaluate the model\n",
        "r_squared = model.score(X_test, y_test)\n",
        "print(f\"R-squared value: {r_squared}\")\n",
        "\n",
        "# Get the model coefficients\n",
        "coefficients = model.coef_\n",
        "intercept = model.intercept_\n",
        "print(f\"Intercept: {intercept}\")\n",
        "print(f\"Coefficients: {coefficients}\")"
      ]
    },
    {
      "cell_type": "code",
      "execution_count": null,
      "metadata": {
        "colab": {
          "base_uri": "https://localhost:8080/"
        },
        "id": "896iT-mr0Gly",
        "outputId": "17d37085-f8a7-4cac-8f3b-a04ab09c9566"
      },
      "outputs": [],
      "source": [
        "from sklearn.preprocessing import PolynomialFeatures\n",
        "\n",
        "# Polynomial Features\n",
        "poly = PolynomialFeatures(degree=2)\n",
        "X_poly = poly.fit_transform(X)\n",
        "\n",
        "# Train Polynomial Regression model\n",
        "poly_model = LinearRegression()\n",
        "poly_model.fit(X_poly, y)\n",
        "\n",
        "# Get predictions\n",
        "y_poly_pred = poly_model.predict(X_poly)\n",
        "\n",
        "# Calculate R-squared\n",
        "r_squared_poly = poly_model.score(X_poly, y)\n",
        "print(f\"R-squared (Polynomial Regression): {r_squared_poly}\")\n"
      ]
    },
    {
      "cell_type": "code",
      "execution_count": null,
      "metadata": {
        "colab": {
          "base_uri": "https://localhost:8080/"
        },
        "id": "WJjlTTlm0LXL",
        "outputId": "dba896a5-593d-4d42-ba3b-418d9eaa9687"
      },
      "outputs": [],
      "source": [
        "from sklearn.preprocessing import PolynomialFeatures\n",
        "from sklearn.impute import SimpleImputer # Import the SimpleImputer class\n",
        "\n",
        "# Polynomial Features\n",
        "poly = PolynomialFeatures(degree=2)\n",
        "\n",
        "# Impute missing values using the mean strategy\n",
        "imputer = SimpleImputer(strategy='mean') # Create an instance of SimpleImputer\n",
        "X = imputer.fit_transform(X) # Fit and transform on the training data\n",
        "\n",
        "X_poly = poly.fit_transform(X)\n",
        "\n",
        "# Train Polynomial Regression model\n",
        "poly_model = LinearRegression()\n",
        "poly_model.fit(X_poly, y)\n",
        "\n",
        "# Get predictions\n",
        "y_poly_pred = poly_model.predict(X_poly)\n",
        "\n",
        "# Calculate R-squared\n",
        "r_squared_poly = poly_model.score(X_poly, y)\n",
        "print(f\"R-squared (Polynomial Regression): {r_squared_poly}\")"
      ]
    },
    {
      "cell_type": "code",
      "execution_count": null,
      "metadata": {
        "colab": {
          "base_uri": "https://localhost:8080/"
        },
        "id": "w6zSQWC70a4T",
        "outputId": "3b0ca41b-dee8-4c34-8737-e78a38223799"
      },
      "outputs": [],
      "source": [
        "# Correlation analysis between Life Expectancy, Per Capita GDP, and Ecological Footprint\n",
        "correlation_life_income_footprint = data[['Life Expectancy', 'Per Capita GDP', 'Total Ecological Footprint (Consumption)']].corr()\n",
        "\n",
        "# Display correlation matrix\n",
        "print(correlation_life_income_footprint)\n"
      ]
    },
    {
      "cell_type": "code",
      "execution_count": null,
      "metadata": {
        "colab": {
          "base_uri": "https://localhost:8080/",
          "height": 1000
        },
        "id": "yAt_XyvE0e8x",
        "outputId": "ca641591-6e1a-4139-e249-34a05a55014e"
      },
      "outputs": [],
      "source": [
        "# Scatter plot: Life Expectancy vs Ecological Footprint\n",
        "plt.figure(figsize=(8, 6))\n",
        "sns.scatterplot(x='Life Expectancy', y='Total Ecological Footprint (Consumption)', data=data)\n",
        "plt.title('Life Expectancy vs Ecological Footprint')\n",
        "plt.xlabel('Life Expectancy')\n",
        "plt.ylabel('Total Ecological Footprint (Consumption)')\n",
        "plt.show()\n",
        "# Scatter plot: Per Capita GDP vs Ecological Footprint\n",
        "plt.figure(figsize=(8, 6))\n",
        "sns.scatterplot(x='Per Capita GDP', y='Total Ecological Footprint (Consumption)', data=data)\n",
        "plt.title('Per Capita GDP vs Ecological Footprint')\n",
        "plt.xlabel('Per Capita GDP')\n",
        "plt.ylabel('Total Ecological Footprint (Consumption)')\n",
        "plt.show()\n",
        "# Scatter plot: Life Expectancy vs Per Capita GDP\n",
        "plt.figure(figsize=(8, 6))\n",
        "sns.scatterplot(x='Life Expectancy', y='Per Capita GDP', data=data)\n",
        "plt.title('Life Expectancy vs Per Capita GDP')\n",
        "plt.xlabel('Life Expectancy')\n",
        "plt.ylabel('Per Capita GDP')\n",
        "plt.show()\n"
      ]
    },
    {
      "cell_type": "code",
      "execution_count": null,
      "metadata": {
        "colab": {
          "base_uri": "https://localhost:8080/",
          "height": 1000
        },
        "id": "0GwYBOtd0m46",
        "outputId": "f5b06193-fba8-4774-9383-ea0dd8a6f6ee"
      },
      "outputs": [],
      "source": [
        "# Facet grid: Life Expectancy vs Ecological Footprint by Region\n",
        "g = sns.FacetGrid(data, col=\"Region\", col_wrap=3, height=4)\n",
        "g.map(sns.scatterplot, \"Life Expectancy\", \"Total Ecological Footprint (Consumption)\")\n",
        "g.add_legend()\n",
        "plt.show()\n",
        "# Facet grid: Per Capita GDP vs Ecological Footprint by Income Group\n",
        "g = sns.FacetGrid(data, col=\"Income Group\", col_wrap=2, height=4)\n",
        "g.map(sns.scatterplot, \"Per Capita GDP\", \"Total Ecological Footprint (Consumption)\")\n",
        "g.add_legend()\n",
        "plt.show()\n",
        "data"
      ]
    },
    {
      "cell_type": "code",
      "execution_count": null,
      "metadata": {
        "colab": {
          "base_uri": "https://localhost:8080/"
        },
        "id": "B5tBv91M00-2",
        "outputId": "9ae3a5c6-e43d-45d4-fdb1-4cde49c5dbd5"
      },
      "outputs": [],
      "source": [
        "from sklearn.linear_model import LinearRegression\n",
        "from sklearn.model_selection import train_test_split\n",
        "\n",
        "# Prepare data\n",
        "X = data[['Life Expectancy', 'Per Capita GDP']]\n",
        "y = data['Total Ecological Footprint (Consumption)']\n",
        "\n",
        "# Split into training and testing sets\n",
        "X_train, X_test, y_train, y_test = train_test_split(X, y, test_size=0.2, random_state=42)\n",
        "\n",
        "# Train the model\n",
        "model = LinearRegression()\n",
        "model.fit(X_train, y_train)\n",
        "\n",
        "# Evaluate the model\n",
        "r_squared = model.score(X_test, y_test)\n",
        "print(f\"R-squared value: {r_squared}\")\n",
        "\n",
        "# Get the model coefficients\n",
        "coefficients = model.coef_\n",
        "intercept = model.intercept_\n",
        "print(f\"Intercept: {intercept}\")\n",
        "print(f\"Coefficients (Life Expectancy, Per Capita GDP): {coefficients}\")\n"
      ]
    },
    {
      "cell_type": "code",
      "execution_count": null,
      "metadata": {
        "colab": {
          "base_uri": "https://localhost:8080/"
        },
        "id": "E8mH6EZ808uu",
        "outputId": "e5b2007d-e071-46ce-bd9e-96c0012ec9fc"
      },
      "outputs": [],
      "source": [
        "from sklearn.linear_model import LinearRegression\n",
        "from sklearn.model_selection import train_test_split\n",
        "from sklearn.impute import SimpleImputer # Import the SimpleImputer class\n",
        "\n",
        "# Prepare data\n",
        "X = data[['Life Expectancy', 'Per Capita GDP']]\n",
        "y = data['Total Ecological Footprint (Consumption)']\n",
        "\n",
        "# Split into training and testing sets\n",
        "X_train, X_test, y_train, y_test = train_test_split(X, y, test_size=0.2, random_state=42)\n",
        "\n",
        "# Impute missing values using the mean strategy\n",
        "imputer = SimpleImputer(strategy='mean') # Create an instance of SimpleImputer\n",
        "X_train = imputer.fit_transform(X_train) # Fit and transform on the training data\n",
        "X_test = imputer.transform(X_test) # Transform the testing data\n",
        "\n",
        "# Train the model\n",
        "model = LinearRegression()\n",
        "model.fit(X_train, y_train)\n",
        "\n",
        "# Evaluate the model\n",
        "r_squared = model.score(X_test, y_test)\n",
        "print(f\"R-squared value: {r_squared}\")\n",
        "\n",
        "# Get the model coefficients\n",
        "coefficients = model.coef_\n",
        "intercept = model.intercept_\n",
        "print(f\"Intercept: {intercept}\")\n",
        "print(f\"Coefficients (Life Expectancy, Per Capita GDP): {coefficients}\")"
      ]
    },
    {
      "cell_type": "code",
      "execution_count": null,
      "metadata": {
        "colab": {
          "base_uri": "https://localhost:8080/",
          "height": 564
        },
        "id": "umDTwbHo1AmX",
        "outputId": "33ebcc65-3b0e-474a-c8cc-aa832047581c"
      },
      "outputs": [],
      "source": [
        "# Density plot for Life Expectancy, Per Capita GDP, and Ecological Footprint\n",
        "plt.figure(figsize=(8, 6))\n",
        "sns.kdeplot(data['Life Expectancy'], label='Life Expectancy', fill=True)\n",
        "sns.kdeplot(data['Per Capita GDP'], label='Per Capita GDP', fill=True)\n",
        "sns.kdeplot(data['Total Ecological Footprint (Consumption)'], label='Ecological Footprint', fill=True)\n",
        "plt.title('Density Plot for Life Expectancy, Per Capita GDP, and Ecological Footprint')\n",
        "plt.xlabel('Value')\n",
        "plt.ylabel('Density')\n",
        "plt.legend()\n",
        "plt.show()\n"
      ]
    },
    {
      "cell_type": "code",
      "execution_count": null,
      "metadata": {
        "colab": {
          "base_uri": "https://localhost:8080/",
          "height": 1000
        },
        "id": "Ltp5PUMy1SxC",
        "outputId": "14f55487-f2f1-4f87-e7a9-4a66f1e4f54e"
      },
      "outputs": [],
      "source": [
        "numerical_cols =data.select_dtypes(include=['float64', 'int64']).columns\n",
        "for col in numerical_cols:\n",
        "    plt.figure(figsize=(5, 5))\n",
        "    sns.histplot(data[col].dropna(), kde=True)\n",
        "    plt.title(f'Distribution of {col}')\n",
        "    plt.show()"
      ]
    }
  ],
  "metadata": {
    "colab": {
      "provenance": []
    },
    "kernelspec": {
      "display_name": "Python 3",
      "name": "python3"
    },
    "language_info": {
      "name": "python"
    }
  },
  "nbformat": 4,
  "nbformat_minor": 0
}
